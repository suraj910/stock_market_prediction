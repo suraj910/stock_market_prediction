{
 "cells": [
  {
   "cell_type": "code",
   "execution_count": 1,
   "metadata": {},
   "outputs": [],
   "source": [
    "import yfinance as yf\n",
    "import pandas as pd\n"
   ]
  },
  {
   "cell_type": "code",
   "execution_count": 10,
   "metadata": {},
   "outputs": [
    {
     "ename": "ModuleNotFoundError",
     "evalue": "No module named 'tensorflow'",
     "output_type": "error",
     "traceback": [
      "\u001b[1;31m---------------------------------------------------------------------------\u001b[0m",
      "\u001b[1;31mModuleNotFoundError\u001b[0m                       Traceback (most recent call last)",
      "\u001b[1;32m~\\AppData\\Local\\Temp\\ipykernel_21508\\3727254347.py\u001b[0m in \u001b[0;36m<module>\u001b[1;34m\u001b[0m\n\u001b[0;32m      3\u001b[0m \u001b[1;32mimport\u001b[0m \u001b[0mnumpy\u001b[0m \u001b[1;32mas\u001b[0m \u001b[0mnp\u001b[0m\u001b[1;33m\u001b[0m\u001b[1;33m\u001b[0m\u001b[0m\n\u001b[0;32m      4\u001b[0m \u001b[1;32mfrom\u001b[0m \u001b[0msklearn\u001b[0m\u001b[1;33m.\u001b[0m\u001b[0mpreprocessing\u001b[0m \u001b[1;32mimport\u001b[0m \u001b[0mMinMaxScaler\u001b[0m\u001b[1;33m\u001b[0m\u001b[1;33m\u001b[0m\u001b[0m\n\u001b[1;32m----> 5\u001b[1;33m \u001b[1;32mfrom\u001b[0m \u001b[0mkeras\u001b[0m\u001b[1;33m.\u001b[0m\u001b[0mmodels\u001b[0m \u001b[1;32mimport\u001b[0m \u001b[0mSequential\u001b[0m\u001b[1;33m\u001b[0m\u001b[1;33m\u001b[0m\u001b[0m\n\u001b[0m\u001b[0;32m      6\u001b[0m \u001b[1;32mfrom\u001b[0m \u001b[0mkeras\u001b[0m\u001b[1;33m.\u001b[0m\u001b[0mlayers\u001b[0m \u001b[1;32mimport\u001b[0m \u001b[0mDense\u001b[0m\u001b[1;33m,\u001b[0m\u001b[0mLSTM\u001b[0m\u001b[1;33m\u001b[0m\u001b[1;33m\u001b[0m\u001b[0m\n\u001b[0;32m      7\u001b[0m \u001b[1;32mfrom\u001b[0m \u001b[0mkeras\u001b[0m\u001b[1;33m.\u001b[0m\u001b[0mlayers\u001b[0m \u001b[1;32mimport\u001b[0m \u001b[0mDropout\u001b[0m\u001b[1;33m\u001b[0m\u001b[1;33m\u001b[0m\u001b[0m\n",
      "\u001b[1;32me:\\StockMarket_mini-project-main\\venv\\lib\\site-packages\\keras\\__init__.py\u001b[0m in \u001b[0;36m<module>\u001b[1;34m\u001b[0m\n\u001b[0;32m     19\u001b[0m \"\"\"\n\u001b[0;32m     20\u001b[0m \u001b[1;31m# pylint: disable=unused-import\u001b[0m\u001b[1;33m\u001b[0m\u001b[1;33m\u001b[0m\u001b[1;33m\u001b[0m\u001b[0m\n\u001b[1;32m---> 21\u001b[1;33m \u001b[1;32mfrom\u001b[0m \u001b[0mtensorflow\u001b[0m\u001b[1;33m.\u001b[0m\u001b[0mpython\u001b[0m \u001b[1;32mimport\u001b[0m \u001b[0mtf2\u001b[0m\u001b[1;33m\u001b[0m\u001b[1;33m\u001b[0m\u001b[0m\n\u001b[0m\u001b[0;32m     22\u001b[0m \u001b[1;32mfrom\u001b[0m \u001b[0mkeras\u001b[0m \u001b[1;32mimport\u001b[0m \u001b[0mdistribute\u001b[0m\u001b[1;33m\u001b[0m\u001b[1;33m\u001b[0m\u001b[0m\n\u001b[0;32m     23\u001b[0m \u001b[1;33m\u001b[0m\u001b[0m\n",
      "\u001b[1;31mModuleNotFoundError\u001b[0m: No module named 'tensorflow'"
     ]
    }
   ],
   "source": [
    "import math\r\n",
    "import pandas_datareader as web\r\n",
    "import numpy as np\r\n",
    "from sklearn.preprocessing import MinMaxScaler\r\n",
    "from keras.models import Sequential\r\n",
    "from keras.layers import Dense,LSTM\r\n",
    "from keras.layers import Dropout\r\n",
    "from keras.layers import *\r\n",
    "import matplotlib.pyplot as plt\r\n",
    "plt.style.use('fivethirtyeight')\r\n",
    "from datetime import date,timedelta\r\n",
    "today = date.today()\r\n",
    "#print(\"Today's date:\", today)\r\n",
    "tomorrow = date.today()+timedelta(days=1)\r\n",
    "print(tomorrow)"
   ]
  },
  {
   "cell_type": "code",
   "execution_count": null,
   "metadata": {},
   "outputs": [
    {
     "data": {
      "text/html": [
       "<div>\n",
       "<style scoped>\n",
       "    .dataframe tbody tr th:only-of-type {\n",
       "        vertical-align: middle;\n",
       "    }\n",
       "\n",
       "    .dataframe tbody tr th {\n",
       "        vertical-align: top;\n",
       "    }\n",
       "\n",
       "    .dataframe thead th {\n",
       "        text-align: right;\n",
       "    }\n",
       "</style>\n",
       "<table border=\"1\" class=\"dataframe\">\n",
       "  <thead>\n",
       "    <tr style=\"text-align: right;\">\n",
       "      <th></th>\n",
       "      <th>High</th>\n",
       "      <th>Low</th>\n",
       "      <th>Open</th>\n",
       "      <th>Close</th>\n",
       "      <th>Volume</th>\n",
       "      <th>Adj Close</th>\n",
       "    </tr>\n",
       "    <tr>\n",
       "      <th>Date</th>\n",
       "      <th></th>\n",
       "      <th></th>\n",
       "      <th></th>\n",
       "      <th></th>\n",
       "      <th></th>\n",
       "      <th></th>\n",
       "    </tr>\n",
       "  </thead>\n",
       "  <tbody>\n",
       "    <tr>\n",
       "      <th>2018-01-02</th>\n",
       "      <td>10495.200195</td>\n",
       "      <td>10404.650391</td>\n",
       "      <td>10477.549805</td>\n",
       "      <td>10442.200195</td>\n",
       "      <td>153400.0</td>\n",
       "      <td>10442.200195</td>\n",
       "    </tr>\n",
       "    <tr>\n",
       "      <th>2018-01-03</th>\n",
       "      <td>10503.599609</td>\n",
       "      <td>10429.549805</td>\n",
       "      <td>10482.650391</td>\n",
       "      <td>10443.200195</td>\n",
       "      <td>167300.0</td>\n",
       "      <td>10443.200195</td>\n",
       "    </tr>\n",
       "    <tr>\n",
       "      <th>2018-01-04</th>\n",
       "      <td>10513.000000</td>\n",
       "      <td>10441.450195</td>\n",
       "      <td>10469.400391</td>\n",
       "      <td>10504.799805</td>\n",
       "      <td>174900.0</td>\n",
       "      <td>10504.799805</td>\n",
       "    </tr>\n",
       "    <tr>\n",
       "      <th>2018-01-05</th>\n",
       "      <td>10566.099609</td>\n",
       "      <td>10520.099609</td>\n",
       "      <td>10534.250000</td>\n",
       "      <td>10558.849609</td>\n",
       "      <td>180900.0</td>\n",
       "      <td>10558.849609</td>\n",
       "    </tr>\n",
       "    <tr>\n",
       "      <th>2018-01-08</th>\n",
       "      <td>10631.200195</td>\n",
       "      <td>10588.549805</td>\n",
       "      <td>10591.700195</td>\n",
       "      <td>10623.599609</td>\n",
       "      <td>169000.0</td>\n",
       "      <td>10623.599609</td>\n",
       "    </tr>\n",
       "    <tr>\n",
       "      <th>...</th>\n",
       "      <td>...</td>\n",
       "      <td>...</td>\n",
       "      <td>...</td>\n",
       "      <td>...</td>\n",
       "      <td>...</td>\n",
       "      <td>...</td>\n",
       "    </tr>\n",
       "    <tr>\n",
       "      <th>2022-03-25</th>\n",
       "      <td>17294.900391</td>\n",
       "      <td>17076.550781</td>\n",
       "      <td>17289.000000</td>\n",
       "      <td>17153.000000</td>\n",
       "      <td>237100.0</td>\n",
       "      <td>17153.000000</td>\n",
       "    </tr>\n",
       "    <tr>\n",
       "      <th>2022-03-28</th>\n",
       "      <td>17235.099609</td>\n",
       "      <td>17003.900391</td>\n",
       "      <td>17181.849609</td>\n",
       "      <td>17222.000000</td>\n",
       "      <td>253200.0</td>\n",
       "      <td>17222.000000</td>\n",
       "    </tr>\n",
       "    <tr>\n",
       "      <th>2022-03-29</th>\n",
       "      <td>17343.650391</td>\n",
       "      <td>17235.699219</td>\n",
       "      <td>17297.199219</td>\n",
       "      <td>17325.300781</td>\n",
       "      <td>235100.0</td>\n",
       "      <td>17325.300781</td>\n",
       "    </tr>\n",
       "    <tr>\n",
       "      <th>2022-03-30</th>\n",
       "      <td>17522.500000</td>\n",
       "      <td>17387.199219</td>\n",
       "      <td>17468.150391</td>\n",
       "      <td>17498.250000</td>\n",
       "      <td>505000.0</td>\n",
       "      <td>17498.250000</td>\n",
       "    </tr>\n",
       "    <tr>\n",
       "      <th>2022-03-31</th>\n",
       "      <td>17559.800781</td>\n",
       "      <td>17435.199219</td>\n",
       "      <td>17519.199219</td>\n",
       "      <td>17464.750000</td>\n",
       "      <td>0.0</td>\n",
       "      <td>17464.750000</td>\n",
       "    </tr>\n",
       "  </tbody>\n",
       "</table>\n",
       "<p>1045 rows × 6 columns</p>\n",
       "</div>"
      ],
      "text/plain": [
       "                    High           Low          Open         Close    Volume  \\\n",
       "Date                                                                           \n",
       "2018-01-02  10495.200195  10404.650391  10477.549805  10442.200195  153400.0   \n",
       "2018-01-03  10503.599609  10429.549805  10482.650391  10443.200195  167300.0   \n",
       "2018-01-04  10513.000000  10441.450195  10469.400391  10504.799805  174900.0   \n",
       "2018-01-05  10566.099609  10520.099609  10534.250000  10558.849609  180900.0   \n",
       "2018-01-08  10631.200195  10588.549805  10591.700195  10623.599609  169000.0   \n",
       "...                  ...           ...           ...           ...       ...   \n",
       "2022-03-25  17294.900391  17076.550781  17289.000000  17153.000000  237100.0   \n",
       "2022-03-28  17235.099609  17003.900391  17181.849609  17222.000000  253200.0   \n",
       "2022-03-29  17343.650391  17235.699219  17297.199219  17325.300781  235100.0   \n",
       "2022-03-30  17522.500000  17387.199219  17468.150391  17498.250000  505000.0   \n",
       "2022-03-31  17559.800781  17435.199219  17519.199219  17464.750000       0.0   \n",
       "\n",
       "               Adj Close  \n",
       "Date                      \n",
       "2018-01-02  10442.200195  \n",
       "2018-01-03  10443.200195  \n",
       "2018-01-04  10504.799805  \n",
       "2018-01-05  10558.849609  \n",
       "2018-01-08  10623.599609  \n",
       "...                  ...  \n",
       "2022-03-25  17153.000000  \n",
       "2022-03-28  17222.000000  \n",
       "2022-03-29  17325.300781  \n",
       "2022-03-30  17498.250000  \n",
       "2022-03-31  17464.750000  \n",
       "\n",
       "[1045 rows x 6 columns]"
      ]
     },
     "execution_count": 32,
     "metadata": {},
     "output_type": "execute_result"
    }
   ],
   "source": [
    "df = web.DataReader('^NSEI',data_source='yahoo',start='2018-01-01',end=today)\n",
    "df"
   ]
  },
  {
   "cell_type": "code",
   "execution_count": null,
   "metadata": {},
   "outputs": [
    {
     "data": {
      "text/plain": [
       "(1045, 6)"
      ]
     },
     "execution_count": 33,
     "metadata": {},
     "output_type": "execute_result"
    }
   ],
   "source": [
    "df.shape"
   ]
  },
  {
   "cell_type": "code",
   "execution_count": null,
   "metadata": {},
   "outputs": [
    {
     "data": {
      "image/png": "[encoded data removed]",
      "text/plain": [
       "<Figure size 1152x576 with 1 Axes>"
      ]
     },
     "metadata": {},
     "output_type": "display_data"
    }
   ],
   "source": [
    "plt.figure(figsize=(16,8))\n",
    "plt.title('Closing Price')\n",
    "plt.plot(df['Close'])\n",
    "plt.xlabel('Date', fontsize=18)\n",
    "plt.ylabel('Closing price',fontsize=18)\n",
    "plt.show()\n"
   ]
  },
  {
   "cell_type": "code",
   "execution_count": null,
   "metadata": {},
   "outputs": [
    {
     "data": {
      "text/plain": [
       "836"
      ]
     },
     "execution_count": 35,
     "metadata": {},
     "output_type": "execute_result"
    }
   ],
   "source": [
    "data=df.filter(['Close'])\n",
    "#convert dataframe into numpy array\n",
    "dataset=data.values\n",
    "#getting number of rows for training\n",
    "training_data_len=math.ceil(len(dataset)*0.8)\n",
    "training_data_len\n",
    "\n"
   ]
  },
  {
   "cell_type": "code",
   "execution_count": null,
   "metadata": {},
   "outputs": [
    {
     "data": {
      "text/plain": [
       "array([[0.2606057 ],\n",
       "       [0.26069772],\n",
       "       [0.26636633],\n",
       "       ...,\n",
       "       [0.89401204],\n",
       "       [0.90992742],\n",
       "       [0.90684464]])"
      ]
     },
     "execution_count": 36,
     "metadata": {},
     "output_type": "execute_result"
    }
   ],
   "source": [
    "#scale the data\n",
    "scaler=MinMaxScaler(feature_range=(0,1))\n",
    "#transform data into (0,1)\n",
    "scaled_data = scaler.fit_transform(dataset) #computes the minimum and maximum values and scales all the values accordingly\n",
    "scaled_data"
   ]
  },
  {
   "cell_type": "code",
   "execution_count": null,
   "metadata": {},
   "outputs": [
    {
     "name": "stdout",
     "output_type": "stream",
     "text": [
      "[array([0.2606057 , 0.26069772, 0.26636633, 0.27134017, 0.27729869,\n",
      "       0.27853184, 0.27809014, 0.27983859, 0.28260387, 0.28815287,\n",
      "       0.28437074, 0.29247797, 0.29509605, 0.30224629, 0.30882596,\n",
      "       0.31963871, 0.31985035, 0.3183458 , 0.32393622, 0.31650533,\n",
      "       0.3144854 , 0.31349157, 0.2899059 , 0.28125111, 0.26576359,\n",
      "       0.2637805 , 0.27299659, 0.261779  , 0.26958256, 0.26600749,\n",
      "       0.2701117 , 0.2615351 , 0.25473462, 0.2530782 , 0.25648765,\n",
      "       0.2551303 , 0.265101  , 0.27352573, 0.27092148, 0.26526663,\n",
      "       0.26209182, 0.25293549, 0.24284976, 0.23410296, 0.24224245,\n",
      "       0.2407884 , 0.25869163, 0.25919308, 0.25772538, 0.25305519,\n",
      "       0.23787133, 0.22858614, 0.231356  , 0.23419956, 0.23047262,\n",
      "       0.21973347, 0.23193582, 0.23685908, 0.23037601, 0.23940347])]\n",
      "[0.24245866405741978]\n",
      "\n",
      "[array([0.2606057 , 0.26069772, 0.26636633, 0.27134017, 0.27729869,\n",
      "       0.27853184, 0.27809014, 0.27983859, 0.28260387, 0.28815287,\n",
      "       0.28437074, 0.29247797, 0.29509605, 0.30224629, 0.30882596,\n",
      "       0.31963871, 0.31985035, 0.3183458 , 0.32393622, 0.31650533,\n",
      "       0.3144854 , 0.31349157, 0.2899059 , 0.28125111, 0.26576359,\n",
      "       0.2637805 , 0.27299659, 0.261779  , 0.26958256, 0.26600749,\n",
      "       0.2701117 , 0.2615351 , 0.25473462, 0.2530782 , 0.25648765,\n",
      "       0.2551303 , 0.265101  , 0.27352573, 0.27092148, 0.26526663,\n",
      "       0.26209182, 0.25293549, 0.24284976, 0.23410296, 0.24224245,\n",
      "       0.2407884 , 0.25869163, 0.25919308, 0.25772538, 0.25305519,\n",
      "       0.23787133, 0.22858614, 0.231356  , 0.23419956, 0.23047262,\n",
      "       0.21973347, 0.23193582, 0.23685908, 0.23037601, 0.23940347]), array([0.26069772, 0.26636633, 0.27134017, 0.27729869, 0.27853184,\n",
      "       0.27809014, 0.27983859, 0.28260387, 0.28815287, 0.28437074,\n",
      "       0.29247797, 0.29509605, 0.30224629, 0.30882596, 0.31963871,\n",
      "       0.31985035, 0.3183458 , 0.32393622, 0.31650533, 0.3144854 ,\n",
      "       0.31349157, 0.2899059 , 0.28125111, 0.26576359, 0.2637805 ,\n",
      "       0.27299659, 0.261779  , 0.26958256, 0.26600749, 0.2701117 ,\n",
      "       0.2615351 , 0.25473462, 0.2530782 , 0.25648765, 0.2551303 ,\n",
      "       0.265101  , 0.27352573, 0.27092148, 0.26526663, 0.26209182,\n",
      "       0.25293549, 0.24284976, 0.23410296, 0.24224245, 0.2407884 ,\n",
      "       0.25869163, 0.25919308, 0.25772538, 0.25305519, 0.23787133,\n",
      "       0.22858614, 0.231356  , 0.23419956, 0.23047262, 0.21973347,\n",
      "       0.23193582, 0.23685908, 0.23037601, 0.23940347, 0.24245866])]\n",
      "[0.24245866405741978, 0.2317287710813577]\n",
      "\n"
     ]
    }
   ],
   "source": [
    "#create the scaled training dataset\n",
    "train_data=scaled_data[0:training_data_len,:]\n",
    "#split the datainto x_train and y_train\n",
    "x_train=[]\n",
    "y_train=[]\n",
    "\n",
    "for i in range (60, len(train_data)):\n",
    "    x_train.append(train_data[i-60:i,0])  #not including i and it will contain first 60 values(0 to 59)\n",
    "    y_train.append(train_data[i,0])    #this will contain the 61st value(60th position) that we want out model to predict\n",
    "    if i <=61:\n",
    "        print(x_train)\n",
    "        print(y_train)\n",
    "        print()"
   ]
  },
  {
   "cell_type": "code",
   "execution_count": null,
   "metadata": {},
   "outputs": [],
   "source": [
    "#convert x_train y_train to numpy array so we can use them to train Lstm model\n",
    "x_train,y_train = np.array(x_train), np.array(y_train)"
   ]
  },
  {
   "cell_type": "code",
   "execution_count": null,
   "metadata": {},
   "outputs": [
    {
     "data": {
      "text/plain": [
       "(776, 60, 1)"
      ]
     },
     "execution_count": 39,
     "metadata": {},
     "output_type": "execute_result"
    }
   ],
   "source": [
    "#reshape the xtrain data --> lstm network expects input to be 3d \n",
    "x_train = np.reshape(x_train,(x_train.shape[0],x_train.shape[1],1))    #(1168,60,1)\n",
    "x_train.shape"
   ]
  },
  {
   "cell_type": "code",
   "execution_count": null,
   "metadata": {},
   "outputs": [],
   "source": [
    "#create LSTM model\n",
    "model=Sequential()\n",
    "model.add(LSTM(units=50, return_sequences=True, input_shape=(x_train.shape[1],1)))\n",
    "model.add(Dropout(0.1))\n",
    "\n",
    "model.add(LSTM(50, return_sequences=True))\n",
    "model.add(Dropout(0.1))\n",
    "\n",
    "model.add(LSTM(50, return_sequences=True))\n",
    "model.add(Dropout(0.1))\n",
    "\n",
    "model.add(LSTM(50, return_sequences=False))\n",
    "model.add(Dropout(0.1))\n",
    "\n",
    "#model.add(Dense(25))\n",
    "model.add(Dense(1))\n"
   ]
  },
  {
   "cell_type": "code",
   "execution_count": null,
   "metadata": {},
   "outputs": [],
   "source": [
    "#COMPILE MODEL\n",
    "model.compile(optimizer='adam',loss='mean_squared_error')"
   ]
  },
  {
   "cell_type": "code",
   "execution_count": null,
   "metadata": {},
   "outputs": [
    {
     "name": "stdout",
     "output_type": "stream",
     "text": [
      "25/25 [==============================] - 2s 72ms/step - loss: 0.0016\n"
     ]
    },
    {
     "data": {
      "text/plain": [
       "<keras.callbacks.History at 0x1c546e28e80>"
      ]
     },
     "execution_count": 73,
     "metadata": {},
     "output_type": "execute_result"
    }
   ],
   "source": [
    "#train the model\n",
    "model.fit(x_train,y_train,batch_size=32,epochs=1) #epoch is number of iteration "
   ]
  },
  {
   "cell_type": "code",
   "execution_count": null,
   "metadata": {},
   "outputs": [],
   "source": [
    "#create the testing dataset\n",
    "#creating new array containing scaled values from index 1168 to 1228\n",
    "test_data = scaled_data[training_data_len-60:, :]\n",
    "#create datasets x_test y test\n",
    "x_test=[]\n",
    "y_test=dataset[training_data_len:, :]   #this will consist the values that we want our model to predict\n",
    "for i in range(60, len(test_data)):\n",
    "    x_test.append(test_data[i-60:i,0])    #x_test contains the past 60 values"
   ]
  },
  {
   "cell_type": "code",
   "execution_count": null,
   "metadata": {},
   "outputs": [],
   "source": [
    "#convert data to numpy array\n",
    "x_test = np.array(x_test)"
   ]
  },
  {
   "cell_type": "code",
   "execution_count": null,
   "metadata": {},
   "outputs": [],
   "source": [
    "#reshape the data\n",
    "x_test = np.reshape(x_test, (x_test.shape[0],x_test.shape[1],1))"
   ]
  },
  {
   "cell_type": "code",
   "execution_count": null,
   "metadata": {},
   "outputs": [],
   "source": [
    "#get the model predicted price value\n",
    "predictions = model.predict(x_test)\n",
    "predictions = scaler.inverse_transform(predictions)    #unscaling the values back from 0 and 1 to original value"
   ]
  },
  {
   "cell_type": "code",
   "execution_count": null,
   "metadata": {},
   "outputs": [
    {
     "data": {
      "text/plain": [
       "16.372621673145932"
      ]
     },
     "execution_count": 79,
     "metadata": {},
     "output_type": "execute_result"
    }
   ],
   "source": [
    "#get the RMS error --> shows accuracy (lower the value better the model)\n",
    "rmse = np.sqrt(np.mean(predictions - y_test)**2)\n",
    "rmse"
   ]
  },
  {
   "cell_type": "code",
   "execution_count": null,
   "metadata": {},
   "outputs": [
    {
     "name": "stderr",
     "output_type": "stream",
     "text": [
      "C:\\Users\\Rakshit Shah\\AppData\\Local\\Temp\\ipykernel_23812\\1691182904.py:4: SettingWithCopyWarning: \n",
      "A value is trying to be set on a copy of a slice from a DataFrame.\n",
      "Try using .loc[row_indexer,col_indexer] = value instead\n",
      "\n",
      "See the caveats in the documentation: https://pandas.pydata.org/pandas-docs/stable/user_guide/indexing.html#returning-a-view-versus-a-copy\n",
      "  valid['Predictions'] = predictions\n"
     ]
    },
    {
     "data": {
      "image/png": "[encoded data removed]",
      "text/plain": [
       "<Figure size 1152x576 with 1 Axes>"
      ]
     },
     "metadata": {},
     "output_type": "display_data"
    }
   ],
   "source": [
    "#plot data\n",
    "train = data[:training_data_len]\n",
    "valid = data[training_data_len:]\n",
    "valid['Predictions'] = predictions\n",
    "#visualise the data\n",
    "plt.figure(figsize=(16,8))\n",
    "plt.title('Model')\n",
    "plt.xlabel('Date',fontsize=18)\n",
    "plt.ylabel('Close Price',fontsize=18)\n",
    "plt.plot(train['Close'])\n",
    "plt.plot(valid[['Close','Predictions']])\n",
    "plt.legend(['Train','Val','Predictions'],loc='lower right')\n",
    "plt.savefig('static/assets/images/predict.png')\n",
    "plt.show()"
   ]
  },
  {
   "cell_type": "code",
   "execution_count": null,
   "metadata": {},
   "outputs": [
    {
     "data": {
      "text/html": [
       "<div>\n",
       "<style scoped>\n",
       "    .dataframe tbody tr th:only-of-type {\n",
       "        vertical-align: middle;\n",
       "    }\n",
       "\n",
       "    .dataframe tbody tr th {\n",
       "        vertical-align: top;\n",
       "    }\n",
       "\n",
       "    .dataframe thead th {\n",
       "        text-align: right;\n",
       "    }\n",
       "</style>\n",
       "<table border=\"1\" class=\"dataframe\">\n",
       "  <thead>\n",
       "    <tr style=\"text-align: right;\">\n",
       "      <th></th>\n",
       "      <th>Close</th>\n",
       "      <th>Predictions</th>\n",
       "    </tr>\n",
       "    <tr>\n",
       "      <th>Date</th>\n",
       "      <th></th>\n",
       "      <th></th>\n",
       "    </tr>\n",
       "  </thead>\n",
       "  <tbody>\n",
       "    <tr>\n",
       "      <th>2021-06-01</th>\n",
       "      <td>15574.849609</td>\n",
       "      <td>15192.639648</td>\n",
       "    </tr>\n",
       "    <tr>\n",
       "      <th>2021-06-02</th>\n",
       "      <td>15576.200195</td>\n",
       "      <td>15262.522461</td>\n",
       "    </tr>\n",
       "    <tr>\n",
       "      <th>2021-06-03</th>\n",
       "      <td>15690.349609</td>\n",
       "      <td>15335.867188</td>\n",
       "    </tr>\n",
       "    <tr>\n",
       "      <th>2021-06-04</th>\n",
       "      <td>15670.250000</td>\n",
       "      <td>15411.348633</td>\n",
       "    </tr>\n",
       "    <tr>\n",
       "      <th>2021-06-07</th>\n",
       "      <td>15751.650391</td>\n",
       "      <td>15486.653320</td>\n",
       "    </tr>\n",
       "    <tr>\n",
       "      <th>...</th>\n",
       "      <td>...</td>\n",
       "      <td>...</td>\n",
       "    </tr>\n",
       "    <tr>\n",
       "      <th>2022-03-25</th>\n",
       "      <td>17153.000000</td>\n",
       "      <td>16813.708984</td>\n",
       "    </tr>\n",
       "    <tr>\n",
       "      <th>2022-03-28</th>\n",
       "      <td>17222.000000</td>\n",
       "      <td>16981.578125</td>\n",
       "    </tr>\n",
       "    <tr>\n",
       "      <th>2022-03-29</th>\n",
       "      <td>17325.300781</td>\n",
       "      <td>17135.968750</td>\n",
       "    </tr>\n",
       "    <tr>\n",
       "      <th>2022-03-30</th>\n",
       "      <td>17498.250000</td>\n",
       "      <td>17271.185547</td>\n",
       "    </tr>\n",
       "    <tr>\n",
       "      <th>2022-03-31</th>\n",
       "      <td>17464.750000</td>\n",
       "      <td>17386.931641</td>\n",
       "    </tr>\n",
       "  </tbody>\n",
       "</table>\n",
       "<p>209 rows × 2 columns</p>\n",
       "</div>"
      ],
      "text/plain": [
       "                   Close   Predictions\n",
       "Date                                  \n",
       "2021-06-01  15574.849609  15192.639648\n",
       "2021-06-02  15576.200195  15262.522461\n",
       "2021-06-03  15690.349609  15335.867188\n",
       "2021-06-04  15670.250000  15411.348633\n",
       "2021-06-07  15751.650391  15486.653320\n",
       "...                  ...           ...\n",
       "2022-03-25  17153.000000  16813.708984\n",
       "2022-03-28  17222.000000  16981.578125\n",
       "2022-03-29  17325.300781  17135.968750\n",
       "2022-03-30  17498.250000  17271.185547\n",
       "2022-03-31  17464.750000  17386.931641\n",
       "\n",
       "[209 rows x 2 columns]"
      ]
     },
     "execution_count": 81,
     "metadata": {},
     "output_type": "execute_result"
    }
   ],
   "source": [
    "#show the valid and predicted price\n",
    "valid"
   ]
  },
  {
   "cell_type": "code",
   "execution_count": null,
   "metadata": {},
   "outputs": [
    {
     "name": "stdout",
     "output_type": "stream",
     "text": [
      "[[17483.828]]\n"
     ]
    },
    {
     "data": {
      "text/html": [
       "<div>\n",
       "<style scoped>\n",
       "    .dataframe tbody tr th:only-of-type {\n",
       "        vertical-align: middle;\n",
       "    }\n",
       "\n",
       "    .dataframe tbody tr th {\n",
       "        vertical-align: top;\n",
       "    }\n",
       "\n",
       "    .dataframe thead th {\n",
       "        text-align: right;\n",
       "    }\n",
       "</style>\n",
       "<table border=\"1\" class=\"dataframe\">\n",
       "  <thead>\n",
       "    <tr style=\"text-align: right;\">\n",
       "      <th></th>\n",
       "      <th>High</th>\n",
       "      <th>Low</th>\n",
       "      <th>Open</th>\n",
       "      <th>Close</th>\n",
       "      <th>Volume</th>\n",
       "      <th>Adj Close</th>\n",
       "    </tr>\n",
       "    <tr>\n",
       "      <th>Date</th>\n",
       "      <th></th>\n",
       "      <th></th>\n",
       "      <th></th>\n",
       "      <th></th>\n",
       "      <th></th>\n",
       "      <th></th>\n",
       "    </tr>\n",
       "  </thead>\n",
       "  <tbody>\n",
       "    <tr>\n",
       "      <th>2016-01-04</th>\n",
       "      <td>7937.549805</td>\n",
       "      <td>7781.100098</td>\n",
       "      <td>7924.549805</td>\n",
       "      <td>7791.299805</td>\n",
       "      <td>134700.0</td>\n",
       "      <td>7791.299805</td>\n",
       "    </tr>\n",
       "    <tr>\n",
       "      <th>2016-01-05</th>\n",
       "      <td>7831.200195</td>\n",
       "      <td>7763.250000</td>\n",
       "      <td>7828.399902</td>\n",
       "      <td>7784.649902</td>\n",
       "      <td>145200.0</td>\n",
       "      <td>7784.649902</td>\n",
       "    </tr>\n",
       "    <tr>\n",
       "      <th>2016-01-06</th>\n",
       "      <td>7800.950195</td>\n",
       "      <td>7721.200195</td>\n",
       "      <td>7788.049805</td>\n",
       "      <td>7741.000000</td>\n",
       "      <td>147100.0</td>\n",
       "      <td>7741.000000</td>\n",
       "    </tr>\n",
       "    <tr>\n",
       "      <th>2016-01-07</th>\n",
       "      <td>7674.950195</td>\n",
       "      <td>7556.600098</td>\n",
       "      <td>7673.350098</td>\n",
       "      <td>7568.299805</td>\n",
       "      <td>188900.0</td>\n",
       "      <td>7568.299805</td>\n",
       "    </tr>\n",
       "    <tr>\n",
       "      <th>2016-01-08</th>\n",
       "      <td>7634.100098</td>\n",
       "      <td>7581.049805</td>\n",
       "      <td>7611.649902</td>\n",
       "      <td>7601.350098</td>\n",
       "      <td>157400.0</td>\n",
       "      <td>7601.350098</td>\n",
       "    </tr>\n",
       "    <tr>\n",
       "      <th>...</th>\n",
       "      <td>...</td>\n",
       "      <td>...</td>\n",
       "      <td>...</td>\n",
       "      <td>...</td>\n",
       "      <td>...</td>\n",
       "      <td>...</td>\n",
       "    </tr>\n",
       "    <tr>\n",
       "      <th>2022-03-25</th>\n",
       "      <td>17294.900391</td>\n",
       "      <td>17076.550781</td>\n",
       "      <td>17289.000000</td>\n",
       "      <td>17153.000000</td>\n",
       "      <td>237100.0</td>\n",
       "      <td>17153.000000</td>\n",
       "    </tr>\n",
       "    <tr>\n",
       "      <th>2022-03-28</th>\n",
       "      <td>17235.099609</td>\n",
       "      <td>17003.900391</td>\n",
       "      <td>17181.849609</td>\n",
       "      <td>17222.000000</td>\n",
       "      <td>253200.0</td>\n",
       "      <td>17222.000000</td>\n",
       "    </tr>\n",
       "    <tr>\n",
       "      <th>2022-03-29</th>\n",
       "      <td>17343.650391</td>\n",
       "      <td>17235.699219</td>\n",
       "      <td>17297.199219</td>\n",
       "      <td>17325.300781</td>\n",
       "      <td>235100.0</td>\n",
       "      <td>17325.300781</td>\n",
       "    </tr>\n",
       "    <tr>\n",
       "      <th>2022-03-30</th>\n",
       "      <td>17522.500000</td>\n",
       "      <td>17387.199219</td>\n",
       "      <td>17468.150391</td>\n",
       "      <td>17498.250000</td>\n",
       "      <td>505000.0</td>\n",
       "      <td>17498.250000</td>\n",
       "    </tr>\n",
       "    <tr>\n",
       "      <th>2022-03-31</th>\n",
       "      <td>17559.800781</td>\n",
       "      <td>17435.199219</td>\n",
       "      <td>17519.199219</td>\n",
       "      <td>17464.750000</td>\n",
       "      <td>0.0</td>\n",
       "      <td>17464.750000</td>\n",
       "    </tr>\n",
       "  </tbody>\n",
       "</table>\n",
       "<p>1537 rows × 6 columns</p>\n",
       "</div>"
      ],
      "text/plain": [
       "                    High           Low          Open         Close    Volume  \\\n",
       "Date                                                                           \n",
       "2016-01-04   7937.549805   7781.100098   7924.549805   7791.299805  134700.0   \n",
       "2016-01-05   7831.200195   7763.250000   7828.399902   7784.649902  145200.0   \n",
       "2016-01-06   7800.950195   7721.200195   7788.049805   7741.000000  147100.0   \n",
       "2016-01-07   7674.950195   7556.600098   7673.350098   7568.299805  188900.0   \n",
       "2016-01-08   7634.100098   7581.049805   7611.649902   7601.350098  157400.0   \n",
       "...                  ...           ...           ...           ...       ...   \n",
       "2022-03-25  17294.900391  17076.550781  17289.000000  17153.000000  237100.0   \n",
       "2022-03-28  17235.099609  17003.900391  17181.849609  17222.000000  253200.0   \n",
       "2022-03-29  17343.650391  17235.699219  17297.199219  17325.300781  235100.0   \n",
       "2022-03-30  17522.500000  17387.199219  17468.150391  17498.250000  505000.0   \n",
       "2022-03-31  17559.800781  17435.199219  17519.199219  17464.750000       0.0   \n",
       "\n",
       "               Adj Close  \n",
       "Date                      \n",
       "2016-01-04   7791.299805  \n",
       "2016-01-05   7784.649902  \n",
       "2016-01-06   7741.000000  \n",
       "2016-01-07   7568.299805  \n",
       "2016-01-08   7601.350098  \n",
       "...                  ...  \n",
       "2022-03-25  17153.000000  \n",
       "2022-03-28  17222.000000  \n",
       "2022-03-29  17325.300781  \n",
       "2022-03-30  17498.250000  \n",
       "2022-03-31  17464.750000  \n",
       "\n",
       "[1537 rows x 6 columns]"
      ]
     },
     "execution_count": 82,
     "metadata": {},
     "output_type": "execute_result"
    }
   ],
   "source": [
    "#get the quote\n",
    "nifty_quote = web.DataReader('^NSEI',data_source='yahoo',start='2016-01-01',end=today)\n",
    "#create a new dataframe\n",
    "new_df = nifty_quote.filter(['Close'])\n",
    "#get the last 60 day closing price values and convert the dataframe to an array \n",
    "last_60_days = new_df[-60:].values\n",
    "#scale the data to be values between 0 and 1\n",
    "last_60_days_scaled = scaler.transform(last_60_days)\n",
    "#create an empty list\n",
    "X_test = []\n",
    "#APPEND THE LAST 60 DAYS\n",
    "X_test.append(last_60_days_scaled)\n",
    "#convert the X_test data set to np array\n",
    "X_test = np.array(X_test)\n",
    "#Reshape\n",
    "X_test = np.reshape(X_test,(X_test.shape[0],X_test.shape[1],1))\n",
    "#get predicted scaled price\n",
    "pred_price = model.predict(X_test)\n",
    "pred_price = scaler.inverse_transform(pred_price)\n",
    "print(pred_price)\n",
    "nifty_quote"
   ]
  },
  {
   "cell_type": "code",
   "execution_count": null,
   "metadata": {},
   "outputs": [
    {
     "name": "stdout",
     "output_type": "stream",
     "text": [
      "<function output at 0x000001C54251ECA0>\n"
     ]
    }
   ],
   "source": []
  },
  {
   "cell_type": "code",
   "execution_count": null,
   "metadata": {},
   "outputs": [],
   "source": []
  }
 ],
 "metadata": {
  "interpreter": {
   "hash": "3c8e61e5194dbd81b8f5191ff1c01d2836c3cb11837be6d310f57d2e6e6a12d8"
  },
  "kernelspec": {
   "display_name": "Python 3.7.8 64-bit ('venv': venv)",
   "name": "python3"
  },
  "language_info": {
   "codemirror_mode": {
    "name": "ipython",
    "version": 3
   },
   "file_extension": ".py",
   "mimetype": "text/x-python",
   "name": "python",
   "nbconvert_exporter": "python",
   "pygments_lexer": "ipython3",
   "version": "3.7.8"
  },
  "orig_nbformat": 4
 },
 "nbformat": 4,
 "nbformat_minor": 2
}